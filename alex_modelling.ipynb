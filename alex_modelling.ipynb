{
 "cells": [
  {
   "cell_type": "markdown",
   "metadata": {},
   "source": [
    "Many steps copied from Tanisha Harde on Kaggle\n",
    "\n",
    "#### Cite later!!!\n",
    "\n",
    "Tanisha Harde on Kaggle\n",
    "https://www.kaggle.com/code/tanishaharde/e-commerce-shopper-purchase-prediction-analysis/notebook\n",
    "\n",
    "xxKavosxx\n",
    "https://www.kaggle.com/code/xxkavosxx/xgboost-0-92-roc-pipeline\n",
    "\n",
    "## Preliminaries"
   ]
  },
  {
   "cell_type": "code",
   "execution_count": 517,
   "metadata": {},
   "outputs": [],
   "source": [
    "import numpy as np\n",
    "import pandas as pd\n",
    "import matplotlib.pyplot as plt\n",
    "import seaborn as sns\n",
    "from ydata_profiling import ProfileReport\n",
    "\n",
    "%matplotlib inline     "
   ]
  },
  {
   "cell_type": "code",
   "execution_count": 518,
   "metadata": {},
   "outputs": [],
   "source": [
    "df=pd.read_csv('online_shoppers_intention.csv')"
   ]
  },
  {
   "cell_type": "code",
   "execution_count": 519,
   "metadata": {},
   "outputs": [
    {
     "name": "stdout",
     "output_type": "stream",
     "text": [
      "<class 'pandas.core.frame.DataFrame'>\n",
      "RangeIndex: 12330 entries, 0 to 12329\n",
      "Data columns (total 18 columns):\n",
      " #   Column                   Non-Null Count  Dtype  \n",
      "---  ------                   --------------  -----  \n",
      " 0   Administrative           12330 non-null  int64  \n",
      " 1   Administrative_Duration  12330 non-null  float64\n",
      " 2   Informational            12330 non-null  int64  \n",
      " 3   Informational_Duration   12330 non-null  float64\n",
      " 4   ProductRelated           12330 non-null  int64  \n",
      " 5   ProductRelated_Duration  12330 non-null  float64\n",
      " 6   BounceRates              12330 non-null  float64\n",
      " 7   ExitRates                12330 non-null  float64\n",
      " 8   PageValues               12330 non-null  float64\n",
      " 9   SpecialDay               12330 non-null  float64\n",
      " 10  Month                    12330 non-null  object \n",
      " 11  OperatingSystems         12330 non-null  int64  \n",
      " 12  Browser                  12330 non-null  int64  \n",
      " 13  Region                   12330 non-null  int64  \n",
      " 14  TrafficType              12330 non-null  int64  \n",
      " 15  VisitorType              12330 non-null  object \n",
      " 16  Weekend                  12330 non-null  bool   \n",
      " 17  Revenue                  12330 non-null  bool   \n",
      "dtypes: bool(2), float64(7), int64(7), object(2)\n",
      "memory usage: 1.5+ MB\n"
     ]
    }
   ],
   "source": [
    "df.info()"
   ]
  },
  {
   "cell_type": "code",
   "execution_count": 520,
   "metadata": {},
   "outputs": [],
   "source": [
    "# Turn booleans into numeric\n",
    "\n",
    "df['Weekend'] = df['Weekend'].astype(int)\n",
    "df['Revenue'] = df['Revenue'].astype(int)"
   ]
  },
  {
   "cell_type": "code",
   "execution_count": 521,
   "metadata": {},
   "outputs": [
    {
     "data": {
      "text/plain": [
       "10"
      ]
     },
     "execution_count": 521,
     "metadata": {},
     "output_type": "execute_result"
    }
   ],
   "source": [
    "# show unique values of Month\n",
    "\n",
    "len(df['Month'].unique())"
   ]
  },
  {
   "cell_type": "markdown",
   "metadata": {},
   "source": [
    "## Modified Tanisha"
   ]
  },
  {
   "cell_type": "markdown",
   "metadata": {},
   "source": [
    "#### Processing"
   ]
  },
  {
   "cell_type": "code",
   "execution_count": 522,
   "metadata": {},
   "outputs": [],
   "source": [
    "from sklearn.preprocessing import MinMaxScaler\n",
    "from sklearn.preprocessing import LabelEncoder\n",
    "from sklearn.preprocessing import OrdinalEncoder\n",
    "from sklearn.preprocessing import StandardScaler\n",
    "from imblearn.over_sampling import SMOTE\n",
    "from sklearn.model_selection import train_test_split\n",
    "from sklearn.preprocessing import RobustScaler\n",
    "from sklearn.preprocessing import PowerTransformer\n",
    "from sklearn.preprocessing import OneHotEncoder\n",
    "\n",
    "# Manual label encoding for month\n",
    "df['Month'] = df['Month'].map(\n",
    "    {'Feb': 2, \n",
    "     'Mar': 3, \n",
    "     'May': 5,\n",
    "     'June':6,\n",
    "     'Jul': 7,\n",
    "     'Aug': 8,\n",
    "     'Sep': 9,\n",
    "     'Oct':10,\n",
    "     'Nov':11,\n",
    "     'Dec':12})\n",
    "\n",
    "     \n",
    "# mmax = MinMaxScaler()\n",
    "# df['Month'] = mmax.fit_transform(df['Month'].values.reshape(-1,1))\n",
    "\n",
    "# print(df['Month'].unique())\n",
    "\n",
    "\n",
    "# Encoding for categoricals\n",
    "cols_to_encode = [\n",
    "    # 'Month',\n",
    "    'OperatingSystems',\n",
    "    'Browser',\n",
    "    'Region',\n",
    "    'TrafficType',\n",
    "    'VisitorType'\n",
    "]\n",
    "\n",
    "le = OrdinalEncoder()\n",
    "df[cols_to_encode] = le.fit_transform(df[cols_to_encode])\n",
    "\n",
    "# # use pd.get_dummies for onehot encoding\n",
    "\n",
    "# df = pd.get_dummies(df, columns=cols_to_encode)\n",
    "\n",
    "\n",
    "\n",
    "# Deduplicate \n",
    "df.drop_duplicates(inplace=True)\n",
    "\n",
    "# Create new numerical variables\n",
    "\n",
    "df['TotalPages'] = df['Administrative'] + df['Informational'] + df['ProductRelated']\n",
    "df['TotalTime'] = df['Administrative_Duration'] + df['Informational_Duration'] + df['ProductRelated_Duration']\n",
    "df['Adm_time_per_page'] = (df['Administrative_Duration']/df['Administrative']).fillna(0)\n",
    "df['Info_time_per_page'] = (df['Informational_Duration']/df['Informational']).fillna(0)\n",
    "df['Pr_time_per_page'] = (df['ProductRelated_Duration']/df['ProductRelated']).fillna(0)\n",
    "# df['Adm_proportion'] = (df['Administrative']/df['TotalPages']).fillna(0)\n",
    "# df['Info_proportion'] = (df['Informational']/df['TotalPages']).fillna(0)\n",
    "# df['Pr_proportion'] = (df['Administrative']/df['TotalPages']).fillna(0)\n",
    "\n",
    "\n",
    "# Minmaxscale on numericals\n",
    "cols_to_scale = [\n",
    "    # 'Adm_proportion',\n",
    "    # 'Info_proportion', \n",
    "    # 'Pr_proportion',\n",
    "    'Administrative_Duration',\n",
    "    'Informational_Duration',\n",
    "    'ProductRelated_Duration',\n",
    "    'TotalPages',\n",
    "    'TotalTime',\n",
    "    'Adm_time_per_page',\n",
    "    'Info_time_per_page',\n",
    "    'Pr_time_per_page',\n",
    "    'BounceRates',\n",
    "    'ExitRates',\n",
    "    'PageValues',\n",
    "    'SpecialDay']\n",
    "scaler = PowerTransformer()\n",
    "df[cols_to_scale] = scaler.fit_transform(df[cols_to_scale])\n",
    "\n",
    "\n",
    "\n",
    "# Drop categories of pages visited\n",
    "df = df.drop([\n",
    "    'Administrative',\n",
    "    'Informational', \n",
    "    'ProductRelated',\n",
    "    # 'Administrative_Duration',\n",
    "    # 'Informational_Duration',\n",
    "    # 'ProductRelated_Duration'\n",
    "    ], axis=1)\n"
   ]
  },
  {
   "cell_type": "code",
   "execution_count": 523,
   "metadata": {},
   "outputs": [
    {
     "name": "stdout",
     "output_type": "stream",
     "text": [
      "<class 'pandas.core.frame.DataFrame'>\n",
      "Index: 12205 entries, 0 to 12329\n",
      "Data columns (total 20 columns):\n",
      " #   Column                   Non-Null Count  Dtype  \n",
      "---  ------                   --------------  -----  \n",
      " 0   Administrative_Duration  12205 non-null  float64\n",
      " 1   Informational_Duration   12205 non-null  float64\n",
      " 2   ProductRelated_Duration  12205 non-null  float64\n",
      " 3   BounceRates              12205 non-null  float64\n",
      " 4   ExitRates                12205 non-null  float64\n",
      " 5   PageValues               12205 non-null  float64\n",
      " 6   SpecialDay               12205 non-null  float64\n",
      " 7   Month                    12205 non-null  int64  \n",
      " 8   OperatingSystems         12205 non-null  float64\n",
      " 9   Browser                  12205 non-null  float64\n",
      " 10  Region                   12205 non-null  float64\n",
      " 11  TrafficType              12205 non-null  float64\n",
      " 12  VisitorType              12205 non-null  float64\n",
      " 13  Weekend                  12205 non-null  int64  \n",
      " 14  Revenue                  12205 non-null  int64  \n",
      " 15  TotalPages               12205 non-null  float64\n",
      " 16  TotalTime                12205 non-null  float64\n",
      " 17  Adm_time_per_page        12205 non-null  float64\n",
      " 18  Info_time_per_page       12205 non-null  float64\n",
      " 19  Pr_time_per_page         12205 non-null  float64\n",
      "dtypes: float64(17), int64(3)\n",
      "memory usage: 2.0 MB\n"
     ]
    }
   ],
   "source": [
    "df.info()"
   ]
  },
  {
   "cell_type": "code",
   "execution_count": 524,
   "metadata": {},
   "outputs": [],
   "source": [
    "X=df.drop('Revenue',axis=1)\n",
    "y=df['Revenue']\n",
    "\n",
    "X_train, X_test, y_train, y_test = train_test_split(X, y, test_size=0.2, random_state=15, stratify=y)"
   ]
  },
  {
   "cell_type": "code",
   "execution_count": 525,
   "metadata": {},
   "outputs": [],
   "source": [
    "\n",
    "# # Apply SMOTE on the encoded features and target variable\n",
    "# smote = SMOTE(sampling_strategy='minority')\n",
    "# X_train, y_train = smote.fit_resample(X_train, y_train)\n",
    "\n",
    "# # Convert the resampled target variable to a pandas Series\n",
    "# y_train = pd.Series(y_train)\n"
   ]
  },
  {
   "cell_type": "markdown",
   "metadata": {},
   "source": [
    "#### Modelling"
   ]
  },
  {
   "cell_type": "code",
   "execution_count": 526,
   "metadata": {},
   "outputs": [
    {
     "name": "stdout",
     "output_type": "stream",
     "text": [
      "Accuracy: 0.9037279803359279\n",
      "              precision    recall  f1-score   support\n",
      "\n",
      "           0       0.92      0.97      0.94      2059\n",
      "           1       0.77      0.55      0.64       382\n",
      "\n",
      "    accuracy                           0.90      2441\n",
      "   macro avg       0.84      0.76      0.79      2441\n",
      "weighted avg       0.90      0.90      0.90      2441\n",
      "\n"
     ]
    }
   ],
   "source": [
    "from sklearn.ensemble import RandomForestClassifier\n",
    "from sklearn.metrics import accuracy_score, classification_report\n",
    "\n",
    "rf = RandomForestClassifier(n_estimators=100, random_state=1)\n",
    "rf.fit(X_train, y_train)\n",
    "\n",
    "# Make predictions on the test set and evaluate model performance\n",
    "y_pred = rf.predict(X_test)\n",
    "accuracy = accuracy_score(y_test, y_pred)\n",
    "print(f'Accuracy: {accuracy}')\n",
    "print(classification_report(y_test, y_pred))"
   ]
  },
  {
   "cell_type": "code",
   "execution_count": 527,
   "metadata": {},
   "outputs": [
    {
     "data": {
      "text/plain": [
       "array([[1994,   65],\n",
       "       [ 170,  212]])"
      ]
     },
     "execution_count": 527,
     "metadata": {},
     "output_type": "execute_result"
    }
   ],
   "source": [
    "# confusion matrix\n",
    "\n",
    "from sklearn.metrics import confusion_matrix\n",
    "\n",
    "cm = confusion_matrix(y_test, y_pred)\n",
    "cm"
   ]
  },
  {
   "cell_type": "code",
   "execution_count": 528,
   "metadata": {},
   "outputs": [
    {
     "name": "stdout",
     "output_type": "stream",
     "text": [
      "Extra Trees Accuracy: 0.8955346169602622\n",
      "              precision    recall  f1-score   support\n",
      "\n",
      "           0       0.92      0.96      0.94      2059\n",
      "           1       0.72      0.54      0.62       382\n",
      "\n",
      "    accuracy                           0.90      2441\n",
      "   macro avg       0.82      0.75      0.78      2441\n",
      "weighted avg       0.89      0.90      0.89      2441\n",
      "\n"
     ]
    }
   ],
   "source": [
    "from sklearn.ensemble import ExtraTreesClassifier\n",
    "\n",
    "et = ExtraTreesClassifier(n_estimators=100, random_state=42)\n",
    "et.fit(X_train, y_train)\n",
    "y_pred = et.predict(X_test)\n",
    "accuracy_et = accuracy_score(y_test, y_pred)\n",
    "print('Extra Trees Accuracy:', accuracy_et)\n",
    "\n",
    "print(classification_report(y_test, y_pred))"
   ]
  },
  {
   "cell_type": "code",
   "execution_count": 529,
   "metadata": {},
   "outputs": [
    {
     "name": "stdout",
     "output_type": "stream",
     "text": [
      "[LightGBM] [Info] Number of positive: 1526, number of negative: 8238\n",
      "[LightGBM] [Info] Auto-choosing row-wise multi-threading, the overhead of testing was 0.002396 seconds.\n",
      "You can set `force_row_wise=true` to remove the overhead.\n",
      "And if memory is not enough, you can set `force_col_wise=true`.\n",
      "[LightGBM] [Info] Total Bins 2871\n",
      "[LightGBM] [Info] Number of data points in the train set: 9764, number of used features: 19\n",
      "[LightGBM] [Info] [binary:BoostFromScore]: pavg=0.156288 -> initscore=-1.686108\n",
      "[LightGBM] [Info] Start training from score -1.686108\n",
      "LightGBM Accuracy: 0.8963539532978287\n",
      "              precision    recall  f1-score   support\n",
      "\n",
      "           0       0.92      0.96      0.94      2059\n",
      "           1       0.71      0.56      0.63       382\n",
      "\n",
      "    accuracy                           0.90      2441\n",
      "   macro avg       0.82      0.76      0.78      2441\n",
      "weighted avg       0.89      0.90      0.89      2441\n",
      "\n"
     ]
    }
   ],
   "source": [
    "from lightgbm import LGBMClassifier\n",
    "\n",
    "lgb = LGBMClassifier()\n",
    "lgb.fit(X_train, y_train)\n",
    "y_pred = lgb.predict(X_test)\n",
    "accuracy_lgb = accuracy_score(y_test, y_pred)\n",
    "print('LightGBM Accuracy:', accuracy_lgb)\n",
    "\n",
    "print(classification_report(y_test, y_pred))"
   ]
  },
  {
   "cell_type": "code",
   "execution_count": 530,
   "metadata": {},
   "outputs": [
    {
     "name": "stdout",
     "output_type": "stream",
     "text": [
      "XGBoost Accuracy: 0.8877509217533798\n",
      "              precision    recall  f1-score   support\n",
      "\n",
      "           0       0.92      0.95      0.93      2059\n",
      "           1       0.68      0.53      0.60       382\n",
      "\n",
      "    accuracy                           0.89      2441\n",
      "   macro avg       0.80      0.74      0.77      2441\n",
      "weighted avg       0.88      0.89      0.88      2441\n",
      "\n"
     ]
    }
   ],
   "source": [
    "from xgboost import XGBClassifier\n",
    "\n",
    "\n",
    "xgb = XGBClassifier(n_estimators=100, random_state=42)\n",
    "xgb.fit(X_train, y_train)\n",
    "y_pred = xgb.predict(X_test)\n",
    "accuracy_xgb = accuracy_score(y_test, y_pred)\n",
    "print('XGBoost Accuracy:', accuracy_xgb)\n",
    "\n",
    "print(classification_report(y_test, y_pred))"
   ]
  },
  {
   "cell_type": "code",
   "execution_count": 531,
   "metadata": {},
   "outputs": [
    {
     "data": {
      "text/plain": [
       "'Source.gv.pdf'"
      ]
     },
     "execution_count": 531,
     "metadata": {},
     "output_type": "execute_result"
    }
   ],
   "source": [
    "from sklearn.tree import export_graphviz\n",
    "import graphviz\n",
    "from IPython.display import display\n",
    "\n",
    "str_tree = export_graphviz(rf.estimators_[0], \n",
    "   out_file=None, \n",
    "   feature_names=X_train.columns, # column names\n",
    "   filled=True,        \n",
    "   special_characters=True, \n",
    "   rotate=True)\n",
    "\n",
    "graph = graphviz.Source(str_tree)\n",
    "\n",
    "graph.render()\n"
   ]
  },
  {
   "cell_type": "code",
   "execution_count": null,
   "metadata": {},
   "outputs": [],
   "source": []
  },
  {
   "cell_type": "code",
   "execution_count": 532,
   "metadata": {},
   "outputs": [
    {
     "name": "stdout",
     "output_type": "stream",
     "text": [
      "Logistic Regression Accuracy: 0.8865219172470299\n",
      "              precision    recall  f1-score   support\n",
      "\n",
      "           0       0.92      0.95      0.93      2059\n",
      "           1       0.66      0.57      0.61       382\n",
      "\n",
      "    accuracy                           0.89      2441\n",
      "   macro avg       0.79      0.76      0.77      2441\n",
      "weighted avg       0.88      0.89      0.88      2441\n",
      "\n"
     ]
    },
    {
     "name": "stderr",
     "output_type": "stream",
     "text": [
      "/home/sandrone/.venv/lib/python3.10/site-packages/sklearn/linear_model/_logistic.py:469: ConvergenceWarning: lbfgs failed to converge (status=1):\n",
      "STOP: TOTAL NO. of ITERATIONS REACHED LIMIT.\n",
      "\n",
      "Increase the number of iterations (max_iter) or scale the data as shown in:\n",
      "    https://scikit-learn.org/stable/modules/preprocessing.html\n",
      "Please also refer to the documentation for alternative solver options:\n",
      "    https://scikit-learn.org/stable/modules/linear_model.html#logistic-regression\n",
      "  n_iter_i = _check_optimize_result(\n"
     ]
    }
   ],
   "source": [
    "from sklearn.linear_model import LogisticRegression\n",
    "\n",
    "lr = LogisticRegression(random_state=42)\n",
    "\n",
    "lr.fit(X_train, y_train)\n",
    "y_pred = lr.predict(X_test)\n",
    "accuracy_lr = accuracy_score(y_test, y_pred)\n",
    "print('Logistic Regression Accuracy:', accuracy_lr)\n",
    "\n",
    "print(classification_report(y_test, y_pred))"
   ]
  },
  {
   "cell_type": "code",
   "execution_count": 533,
   "metadata": {},
   "outputs": [
    {
     "name": "stdout",
     "output_type": "stream",
     "text": [
      "Logistic Regression Accuracy: 0.8861122490782466\n",
      "              precision    recall  f1-score   support\n",
      "\n",
      "           0       0.92      0.95      0.93      2059\n",
      "           1       0.66      0.57      0.61       382\n",
      "\n",
      "    accuracy                           0.89      2441\n",
      "   macro avg       0.79      0.76      0.77      2441\n",
      "weighted avg       0.88      0.89      0.88      2441\n",
      "\n"
     ]
    }
   ],
   "source": [
    "# with lasso regularization\n",
    "\n",
    "lr = LogisticRegression(penalty='l1', solver='liblinear', random_state=42)\n",
    "\n",
    "lr.fit(X_train, y_train)\n",
    "y_pred = lr.predict(X_test)\n",
    "accuracy_lr = accuracy_score(y_test, y_pred)\n",
    "print('Logistic Regression Accuracy:', accuracy_lr)\n",
    "\n",
    "print(classification_report(y_test, y_pred))"
   ]
  }
 ],
 "metadata": {
  "kernelspec": {
   "display_name": ".venv",
   "language": "python",
   "name": "python3"
  },
  "language_info": {
   "codemirror_mode": {
    "name": "ipython",
    "version": 3
   },
   "file_extension": ".py",
   "mimetype": "text/x-python",
   "name": "python",
   "nbconvert_exporter": "python",
   "pygments_lexer": "ipython3",
   "version": "3.10.12"
  }
 },
 "nbformat": 4,
 "nbformat_minor": 2
}
